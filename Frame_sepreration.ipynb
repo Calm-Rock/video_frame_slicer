{
 "cells": [
  {
   "cell_type": "markdown",
   "metadata": {},
   "source": [
    "## Video Frame Slicer\n",
    "\n",
    "A video is basically a moving sequence of images, each image being called as a <b>frame</b>. <br> Here we'll save each frame(basically the image) of the video in jpg format and also get the total number of frames in the video "
   ]
  },
  {
   "cell_type": "code",
   "execution_count": 8,
   "metadata": {},
   "outputs": [],
   "source": [
    "import cv2\n",
    "import os"
   ]
  },
  {
   "cell_type": "code",
   "execution_count": 9,
   "metadata": {},
   "outputs": [],
   "source": [
    "def slice_frame(video):\n",
    "    total = 0\n",
    "    \n",
    "    while True:\n",
    "        #Grab the current frame\n",
    "        (grabbed, frame) = video.read()\n",
    "        cv2.imwrite('saved_frame_' + str(total) + '.jpg', frame)\n",
    "        #To see if we reached the end of the video\n",
    "        if not grabbed:\n",
    "            break\n",
    "\n",
    "        total += 1\n",
    "        print(\"Frame Number :\", total)\n",
    "        \n",
    "    print (\"Total Number Of Frames: \" + str(total))\n"
   ]
  },
  {
   "cell_type": "code",
   "execution_count": 10,
   "metadata": {},
   "outputs": [
    {
     "name": "stdout",
     "output_type": "stream",
     "text": [
      "Frame Number : 1\n",
      "Frame Number : 2\n",
      "Frame Number : 3\n",
      "Frame Number : 4\n",
      "Frame Number : 5\n",
      "Frame Number : 6\n",
      "Frame Number : 7\n",
      "Frame Number : 8\n",
      "Frame Number : 9\n",
      "Frame Number : 10\n",
      "Frame Number : 11\n",
      "Frame Number : 12\n",
      "Frame Number : 13\n",
      "Frame Number : 14\n",
      "Frame Number : 15\n",
      "Frame Number : 16\n",
      "Frame Number : 17\n",
      "Frame Number : 18\n",
      "Frame Number : 19\n",
      "Frame Number : 20\n",
      "Frame Number : 21\n",
      "Frame Number : 22\n",
      "Frame Number : 23\n",
      "Frame Number : 24\n",
      "Frame Number : 25\n",
      "Frame Number : 26\n",
      "Frame Number : 27\n",
      "Frame Number : 28\n",
      "Frame Number : 29\n",
      "Frame Number : 30\n",
      "Frame Number : 31\n",
      "Frame Number : 32\n",
      "Frame Number : 33\n",
      "Frame Number : 34\n",
      "Frame Number : 35\n",
      "Frame Number : 36\n",
      "Frame Number : 37\n",
      "Frame Number : 38\n",
      "Frame Number : 39\n",
      "Frame Number : 40\n",
      "Frame Number : 41\n",
      "Frame Number : 42\n",
      "Total Number Of Frames: 42\n"
     ]
    }
   ],
   "source": [
    "#Gets your current working directory\n",
    "path = os.getcwd()\n",
    "#Just put in your file name instead of camera_detected_1.avi\n",
    "path1 = os.path.join(path , \"camera_detected_1.avi\")\n",
    "\n",
    "slice_frame(cv2.VideoCapture(path1))"
   ]
  },
  {
   "cell_type": "markdown",
   "metadata": {},
   "source": [
    " Here's a link to a video webiste that you can use to download and play with this code. <br>\n",
    " Website:  [link](https://www.videvo.net/) <br>\n",
    " Or, you could just play with your own video :)\n",
    " "
   ]
  },
  {
   "cell_type": "markdown",
   "metadata": {},
   "source": [
    "### A particularly awesome use case "
   ]
  },
  {
   "cell_type": "markdown",
   "metadata": {},
   "source": [
    "So, I was just sitting with a friend and we were just killing time by scrolling Reddit and we came across this:\n",
    "\n",
    "![alt text](https://i.imgur.com/XxmJGQc.jpg \"The_brainy_task\")\n",
    "![alt text](https://i.imgur.com/rFlO5Ib.gif \"Giffy_Gif\")"
   ]
  },
  {
   "cell_type": "markdown",
   "metadata": {},
   "source": [
    "Deceiving, isn't it ? Well, we thought that there is definitely a coloured image in this video. <br>\n",
    "And, there you go, I leraned the frame splicing today and finally got a really cool use case :D. <br>\n",
    "I went to my room and just ran the above notebook on this video and BAM!! Here are the results, frame by frame:\n",
    "![alt text](https://i.imgur.com/KwFPcY3.jpg\"Frame_1\")\n",
    "![alt text](https://i.imgur.com/fip4xa5.jpg\"Frame_2\")\n",
    "![alt text](https://i.imgur.com/5bGUNCi.jpg\"Frame_3\")\n",
    "![alt text](https://i.imgur.com/szueEeh.jpg\"Frame_4\")\n",
    "![alt text](https://i.imgur.com/kMHtdNJ.jpg\"Frame_5\")\n",
    "![alt text](https://i.imgur.com/y1fJXlp.jpg\"Frame_6\")\n",
    "![alt text](https://i.imgur.com/GloFAuK.jpg\"Frame_7\")\n",
    "![alt text](https://i.imgur.com/XWOoF6q.jpg\"Frame_8\")\n",
    "![alt text](https://i.imgur.com/fPrpvEj.jpg\"Frame_9\")\n",
    "![alt text](https://i.imgur.com/W3MjpPX.jpg\"Frame_10\")\n",
    "![alt text](https://i.imgur.com/uXbbFWv.jpg\"Frame_11\")\n",
    "![alt text](https://i.imgur.com/NcNm9tB.jpg\"Frame_12\")\n",
    "![alt text](https://i.imgur.com/woVwbhe.jpg\"Frame_13\")"
   ]
  },
  {
   "cell_type": "markdown",
   "metadata": {},
   "source": [
    "So, apparently there isn't any colored frame in the video :( <br> \n",
    "But it was fun taking the help of openCV for this task :) "
   ]
  },
  {
   "cell_type": "markdown",
   "metadata": {},
   "source": [
    "Here is a link to the post on 9gag (Yes, I saw it on Reddit first and I use neither of them :P): [link](\"https://9gag.com/gag/agn2A9r\")"
   ]
  }
 ],
 "metadata": {
  "kernelspec": {
   "display_name": "Python 3",
   "language": "python",
   "name": "python3"
  },
  "language_info": {
   "codemirror_mode": {
    "name": "ipython",
    "version": 3
   },
   "file_extension": ".py",
   "mimetype": "text/x-python",
   "name": "python",
   "nbconvert_exporter": "python",
   "pygments_lexer": "ipython3",
   "version": "3.6.4"
  }
 },
 "nbformat": 4,
 "nbformat_minor": 2
}
